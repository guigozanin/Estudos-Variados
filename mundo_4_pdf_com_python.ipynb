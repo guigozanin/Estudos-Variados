{
 "cells": [
  {
   "cell_type": "code",
   "execution_count": 16,
   "id": "262b4378-743e-43f2-a64f-d5dcf7af7dce",
   "metadata": {},
   "outputs": [],
   "source": [
    "#!pip install fpdf"
   ]
  },
  {
   "cell_type": "code",
   "execution_count": 17,
   "id": "93fbc291-98b3-47fc-a639-ca29e41459ee",
   "metadata": {},
   "outputs": [],
   "source": [
    "from fpdf import FPDF\n",
    "import random"
   ]
  },
  {
   "cell_type": "code",
   "execution_count": 18,
   "id": "7e382d11-abb8-4878-8170-ea2a657d9413",
   "metadata": {},
   "outputs": [
    {
     "data": {
      "text/plain": [
       "''"
      ]
     },
     "execution_count": 18,
     "metadata": {},
     "output_type": "execute_result"
    }
   ],
   "source": [
    "pdf = FPDF(\"P\", \"mm\", \"A4\")\n",
    "pdf.add_page()\n",
    "\n",
    "pdf.set_font(\"Arial\", size = 12)\n",
    "\n",
    "largura = 150\n",
    "altura = 30\n",
    "\n",
    "pdf.cell(largura, altura, \"outro texto\", ln = False,  border = True, fill = False, align = \"C\") #o alinhamento é do texto\n",
    "pdf.cell(0, altura, \"Segunda informação\", ln = True,  border = True, fill = False, align = \"C\") #o alinhamento é do texto\n",
    "\n",
    "#o tamanho \"0\" serve como coringa de largura e altura. \n",
    "\n",
    "\n",
    "pdf.output('mundo4.pdf')"
   ]
  },
  {
   "cell_type": "markdown",
   "id": "3a02be59-9fd6-4f8c-ae5f-4cd83a86372e",
   "metadata": {},
   "source": [
    "### Classes no Python\n",
    "\n",
    "* Aqui nós vamos trabalhar o conceito de herança de classes no Python. Nós vamos criar uma nova classe, ou objeto, chamado PDF, que herda todas as características do FPDF e cria alguns padrões próprios de cabeçalho e margem.  \n",
    "\n",
    "* Todos os números estão em milímetros.\n",
    "\n",
    "### Nomes importantes\n",
    "\n",
    "* Draw color - Cor das linhas.\n",
    "* Fill color - Prenchimento da célula\n",
    "* Cell - Célula no PDF, igual ao jupyter notebook."
   ]
  },
  {
   "cell_type": "code",
   "execution_count": 19,
   "id": "c3b31c96-240d-4ebf-985f-06b8fe22ab67",
   "metadata": {},
   "outputs": [],
   "source": [
    "class PDF(FPDF):\n",
    "    \n",
    "    def header(self):\n",
    "        \n",
    "        self.image('logo.png', 2, 2, 40) #x, y, tamanho\n",
    "        self.set_font('Arial', 'B', 20)\n",
    "        self.ln(10) #espaço entre a logo e o cabeçalho \n",
    "        self.set_draw_color(35, 155, 132) #cor RGB. 0, 0, 0 é preto\n",
    "        self.cell(0, 15, f\"Relatório de mercado 01/07/2024\", \n",
    "                  border = True, ln = True, align = \"C\")\n",
    "        self.ln(5)\n",
    "        \n",
    "    def footer(self):\n",
    "        \n",
    "        self.set_y(-15) #espaço ate o final da folha\n",
    "        self.set_font('Arial', 'I', 10)\n",
    "        self.cell(0, 10, f\"{self.page_no()}\", align = \"C\")"
   ]
  },
  {
   "cell_type": "code",
   "execution_count": 20,
   "id": "36780cc3-4be9-43f2-82a2-afb69dd2b429",
   "metadata": {},
   "outputs": [],
   "source": [
    "#Definindo config básicas do PDF\n",
    "\n",
    "pdf = PDF(\"P\", \"mm\", \"Letter\")\n",
    "pdf.set_auto_page_break(auto = True, margin = 15)\n",
    "pdf.set_fill_color(255, 255, 255)\n",
    "pdf.set_draw_color(35, 155, 132)\n",
    "pdf.add_page()\n",
    "\n",
    "#pdf.output('mundo4.pdf')"
   ]
  },
  {
   "cell_type": "code",
   "execution_count": 21,
   "id": "29b62bde-9245-4020-9d4c-cbe6c90bb8a6",
   "metadata": {},
   "outputs": [],
   "source": [
    "pdf.image('nave1.png', x = 115, y = 70, w = 75, h = 33, link = 'https://varos.com.br')\n",
    "pdf.set_font('Arial', 'B', 18)\n",
    "pdf.cell(0, 10, \"1 - Ações e câmbio\", ln = True,  border = False, fill = False)\n",
    "pdf.ln(2)\n",
    "\n",
    "pdf.set_font('Arial', '', 14)\n",
    "pdf.cell(0, 15, \"1.1 Fechamento do mercado\", ln = True,  border = False, fill = True)\n",
    "\n",
    "pdf.ln(7)\n",
    "#pdf.output('mundo4.pdf')"
   ]
  },
  {
   "cell_type": "code",
   "execution_count": 22,
   "id": "82cdf80b-9b89-41c9-b625-8ba41d88c2ff",
   "metadata": {},
   "outputs": [],
   "source": [
    "#fechamento ibov\n",
    "pdf.set_font('Arial', '', 13)\n",
    "pdf.cell(25, 15, \" Ibovespa\", ln = False,  border = True, fill = True)\n",
    "pdf.cell(20, 15, f\"1.95%\", ln = True, \n",
    "         border = True, fill = False)\n",
    "\n",
    "#fechamento s&p500\n",
    "pdf.cell(25, 15, \" S&P500\", ln = False,  border = True, fill = True)\n",
    "pdf.cell(20, 15, f\" -0.65%\", ln = True,  border = True, fill = False)\n",
    "\n",
    "#fechamento Dólar\n",
    "pdf.cell(25, 15, \" Dólar\", ln = False,  border = True, fill = True)\n",
    "pdf.cell(20, 15, f\" 2.11%\", ln = True,  border = True, fill = False)\n",
    "\n",
    "pdf.ln(7)\n",
    "\n",
    "#pdf.output('mundo4.pdf')"
   ]
  },
  {
   "cell_type": "code",
   "execution_count": 23,
   "id": "b0ddb0a1-9ae4-49dc-9367-deb99c77f4f6",
   "metadata": {},
   "outputs": [
    {
     "data": {
      "text/plain": [
       "''"
      ]
     },
     "execution_count": 23,
     "metadata": {},
     "output_type": "execute_result"
    }
   ],
   "source": [
    "#imagens\n",
    "pdf.set_font('Arial', '', 14)\n",
    "pdf.cell(0, 15, \"   1.2 Gráficos Ibovespa, S&P500 e Dólar\", ln = True,  border = False, fill = False)\n",
    "\n",
    "pdf.cell(95, 15, \"Ibovespa\", ln = False,  border = False, fill = False, align = \"C\")\n",
    "pdf.cell(100, 15, \"S&P500\", ln = True,  border = False, fill = False, align = \"C\")\n",
    "pdf.image(\"ibov.png\", w = 80, h = 70, x = 20, y = 160)\n",
    "pdf.image(\"sp.png\", w = 80, h = 70, x = 115, y = 160)\n",
    "\n",
    "pdf.ln(130)\n",
    "\n",
    "pdf.cell(0, 15, \"Dólar\", ln = True,  border = False, fill = False, align = \"C\")\n",
    "pdf.image(\"dolar.png\", w = 100, h = 75, x = 58)\n",
    "\n",
    "\n",
    "pdf.ln(2)\n",
    "\n",
    "pdf.output('mundo4.pdf')\n"
   ]
  },
  {
   "cell_type": "code",
   "execution_count": null,
   "id": "15ee2cdd-33cd-4fd4-a19b-07177264f266",
   "metadata": {},
   "outputs": [],
   "source": []
  },
  {
   "cell_type": "code",
   "execution_count": null,
   "id": "b8e52965-c31c-4330-b364-7145e5324db0",
   "metadata": {},
   "outputs": [],
   "source": []
  }
 ],
 "metadata": {
  "kernelspec": {
   "display_name": "Python 3 (ipykernel)",
   "language": "python",
   "name": "python3"
  },
  "language_info": {
   "codemirror_mode": {
    "name": "ipython",
    "version": 3
   },
   "file_extension": ".py",
   "mimetype": "text/x-python",
   "name": "python",
   "nbconvert_exporter": "python",
   "pygments_lexer": "ipython3",
   "version": "3.12.4"
  },
  "widgets": {
   "application/vnd.jupyter.widget-state+json": {
    "state": {},
    "version_major": 2,
    "version_minor": 0
   }
  }
 },
 "nbformat": 4,
 "nbformat_minor": 5
}
