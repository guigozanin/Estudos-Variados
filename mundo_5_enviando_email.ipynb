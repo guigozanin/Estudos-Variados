{
 "cells": [
  {
   "cell_type": "code",
   "execution_count": 1,
   "id": "15660820-c689-4c02-8769-679fd6af948d",
   "metadata": {},
   "outputs": [],
   "source": [
    "import os\n",
    "import smtplib\n",
    "from email.message import EmailMessage"
   ]
  },
  {
   "cell_type": "markdown",
   "id": "32a1934c-b568-44c8-95bf-b4dd5383f127",
   "metadata": {},
   "source": [
    "# Cofigurando o e-mail\n",
    "\n",
    "https://myaccount.google.com/apppasswords"
   ]
  },
  {
   "cell_type": "markdown",
   "id": "10fd9e13",
   "metadata": {},
   "source": [
    "https://myaccount.google.com/apppasswords?rapt=AEjHL4OetMkLyWDQYLdGH2Qkann5sxtBZLn2ecy1gJtpfQcUR-msif1U4EBXXXtcco0z2cCYH7jNUvEAW4AZIc8MkGLwBVZkRJiSu5zlXKlWls_2xLzc5zs"
   ]
  },
  {
   "cell_type": "code",
   "execution_count": 2,
   "id": "447fac31-9505-443a-b89f-aaa13cea5b27",
   "metadata": {},
   "outputs": [],
   "source": [
    "email = \"guigo.zanin@gmail.com\"\n",
    "senha_do_email = \"xicn xpca mbyi sasm\""
   ]
  },
  {
   "cell_type": "code",
   "execution_count": 3,
   "id": "30872578-97da-47d5-8f29-32af23f4b264",
   "metadata": {},
   "outputs": [],
   "source": [
    "msg = EmailMessage()\n",
    "msg['Subject']  = 'Enviando e-mail com Python'\n",
    "msg['From'] = 'guigo.zanin@gmail.com'\n",
    "msg['To'] = 'guigo_zanin@hotmail.com'\n",
    "msg.set_content(\"Segue o relatório diário\")"
   ]
  },
  {
   "cell_type": "code",
   "execution_count": 4,
   "id": "15d62a1c-a465-4e91-8bdd-96fc64f1aeac",
   "metadata": {},
   "outputs": [],
   "source": [
    "with open('mundo4.pdf', 'rb') as content_file:\n",
    "    content = content_file.read()\n",
    "    msg.add_attachment(content, maintype='application', subtype='pdf', filename='mundo4.pdf')"
   ]
  },
  {
   "cell_type": "code",
   "execution_count": 5,
   "id": "36c14bb1-c711-45f0-9a1e-c002159d9857",
   "metadata": {},
   "outputs": [],
   "source": [
    "with open('dolar.png', 'rb') as content_file:\n",
    "    content = content_file.read()\n",
    "    msg.add_attachment(content, maintype='application', subtype='png', filename='dolar.png')"
   ]
  },
  {
   "cell_type": "code",
   "execution_count": 6,
   "id": "1b94a587-91e9-47dd-9924-768289dccd0f",
   "metadata": {},
   "outputs": [],
   "source": [
    "with smtplib.SMTP_SSL('smtp.gmail.com', 465) as smtp:\n",
    "    \n",
    "    smtp.login(email, senha_do_email)\n",
    "    smtp.send_message(msg)"
   ]
  },
  {
   "cell_type": "code",
   "execution_count": null,
   "id": "069c1b44-3e0d-4a44-a6a4-fe055c52f2e3",
   "metadata": {},
   "outputs": [],
   "source": []
  },
  {
   "cell_type": "code",
   "execution_count": null,
   "id": "457971da-40e1-4bca-9f24-ce22d7bac0b6",
   "metadata": {},
   "outputs": [],
   "source": []
  }
 ],
 "metadata": {
  "kernelspec": {
   "display_name": "Python 3 (ipykernel)",
   "language": "python",
   "name": "python3"
  },
  "language_info": {
   "codemirror_mode": {
    "name": "ipython",
    "version": 3
   },
   "file_extension": ".py",
   "mimetype": "text/x-python",
   "name": "python",
   "nbconvert_exporter": "python",
   "pygments_lexer": "ipython3",
   "version": "3.12.4"
  },
  "widgets": {
   "application/vnd.jupyter.widget-state+json": {
    "state": {},
    "version_major": 2,
    "version_minor": 0
   }
  }
 },
 "nbformat": 4,
 "nbformat_minor": 5
}
